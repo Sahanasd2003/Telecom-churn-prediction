{
  "metadata": {
    "kernelspec": {
      "language": "python",
      "display_name": "Python 3",
      "name": "python3"
    },
    "language_info": {
      "pygments_lexer": "ipython3",
      "nbconvert_exporter": "python",
      "version": "3.6.4",
      "file_extension": ".py",
      "codemirror_mode": {
        "name": "ipython",
        "version": 3
      },
      "name": "python",
      "mimetype": "text/x-python"
    },
    "colab": {
      "name": "Telecom churn prediction",
      "provenance": [],
      "include_colab_link": true
    }
  },
  "nbformat_minor": 0,
  "nbformat": 4,
  "cells": [
    {
      "cell_type": "markdown",
      "metadata": {
        "id": "view-in-github",
        "colab_type": "text"
      },
      "source": [
        "<a href=\"https://colab.research.google.com/github/Sahanasd2003/Telecom-churn-prediction/blob/main/Telecom_churn_prediction.ipynb\" target=\"_parent\"><img src=\"https://colab.research.google.com/assets/colab-badge.svg\" alt=\"Open In Colab\"/></a>"
      ]
    },
    {
      "source": [
        "# IMPORTANT: RUN THIS CELL IN ORDER TO IMPORT YOUR KAGGLE DATA SOURCES,\n",
        "# THEN FEEL FREE TO DELETE THIS CELL.\n",
        "# NOTE: THIS NOTEBOOK ENVIRONMENT DIFFERS FROM KAGGLE'S PYTHON\n",
        "# ENVIRONMENT SO THERE MAY BE MISSING LIBRARIES USED BY YOUR\n",
        "# NOTEBOOK.\n",
        "import kagglehub\n",
        "blastchar_telco_customer_churn_path = kagglehub.dataset_download('blastchar/telco-customer-churn')\n",
        "\n",
        "print('Data source import complete.')\n"
      ],
      "metadata": {
        "id": "VLzuHrOZog58"
      },
      "cell_type": "code",
      "outputs": [],
      "execution_count": null
    },
    {
      "cell_type": "markdown",
      "source": [
        "<h2><center> Telecom customer churn analysis </center></h2>"
      ],
      "metadata": {
        "id": "Q04hrkKjog6F"
      }
    },
    {
      "cell_type": "markdown",
      "source": [
        "<h3 style=\"background-color: #f78239 ;padding: 15px ; margin: 7px;\" align=\"justify\">Overview.</h3>\n",
        "\n",
        " <p> In this notebook we will analyze the telecom customer churn dataset, firstly we will conduct data exploratory analysis and univarient / bivarient analysis , afetr that we will creat a model in order to predict wether a specific customer will churn , finally will provide inights and conclusion.</p>\n"
      ],
      "metadata": {
        "id": "ve-Cm3H-og6I"
      }
    },
    {
      "cell_type": "markdown",
      "source": [
        "<h3 style=\"background-color: #f78239 ;padding: 15px ; margin: 7px;\" align=\"justify\"> About the data.</h3>\n",
        "\n",
        "the dataset we will use is a public dataset which can be found and downloaded from[ Here](https://www.kaggle.com/datasets/blastchar/telco-customer-churn).\n",
        "    \n",
        "  Each row represents a customer, each column contains customer’s attributes described on the column Metadata.\n",
        "\n",
        "The data set includes information about:\n",
        "* Customers who left within the last month – the column is called Churn\n",
        "* Services that each customer has signed up for – phone, multiple lines, internet, online security, online backup, device protection, tech support, and streaming TV and movies\n",
        "* Customer account information – how long they’ve been a customer, contract, payment method, paperless billing, monthly charges, and total charges\n",
        "* Demographic info about customers – gender, age range, and if they have partners and dependents\n",
        "    "
      ],
      "metadata": {
        "id": "td61GuYjog6K"
      }
    },
    {
      "cell_type": "markdown",
      "source": [
        "<h3 style=\"background-color: #f78239 ;padding: 15px ; margin: 7px;\" align=\"justify\"> Notebook set up.</h3>\n",
        "first  thing to do is to import the set of libraries we are going to use in order to analyse and model our data.\n"
      ],
      "metadata": {
        "id": "ZIBAafAxog6N"
      }
    },
    {
      "cell_type": "code",
      "source": [
        "import pandas as pd\n",
        "import numpy as np\n",
        "import matplotlib.pyplot as plt\n",
        "import seaborn as sns\n",
        "from pathlib import Path\n",
        "import plotly\n",
        "import plotly.express as px\n",
        "from sklearn.preprocessing import LabelEncoder\n",
        "from sklearn.model_selection import train_test_split ,KFold,StratifiedKFold\n",
        "from sklearn.ensemble import ExtraTreesClassifier\n",
        "from sklearn.metrics import classification_report ,confusion_matrix,ConfusionMatrixDisplay\n",
        "import xgboost as xgb\n",
        "from xgboost import XGBClassifier\n",
        "import lightgbm as lgb\n",
        "from sklearn.metrics import roc_curve, auc ,roc_auc_score\n",
        "import optuna"
      ],
      "metadata": {
        "_kg_hide-input": true,
        "execution": {
          "iopub.status.busy": "2022-07-23T09:02:38.9517Z",
          "iopub.execute_input": "2022-07-23T09:02:38.952152Z",
          "iopub.status.idle": "2022-07-23T09:02:42.61406Z",
          "shell.execute_reply.started": "2022-07-23T09:02:38.952057Z",
          "shell.execute_reply": "2022-07-23T09:02:42.612724Z"
        },
        "trusted": true,
        "id": "dnkt2x1Wog6P"
      },
      "execution_count": null,
      "outputs": []
    },
    {
      "cell_type": "markdown",
      "source": [
        "#### Load data"
      ],
      "metadata": {
        "id": "u-WX3-Iqog6S"
      }
    },
    {
      "cell_type": "code",
      "source": [
        "data = pd.read_csv(\"../input/telco-customer-churn/WA_Fn-UseC_-Telco-Customer-Churn.csv\")"
      ],
      "metadata": {
        "execution": {
          "iopub.status.busy": "2022-07-23T09:02:42.616319Z",
          "iopub.execute_input": "2022-07-23T09:02:42.616662Z",
          "iopub.status.idle": "2022-07-23T09:02:42.683054Z",
          "shell.execute_reply.started": "2022-07-23T09:02:42.616634Z",
          "shell.execute_reply": "2022-07-23T09:02:42.681994Z"
        },
        "trusted": true,
        "id": "dWIJe_g6og6U"
      },
      "execution_count": null,
      "outputs": []
    },
    {
      "cell_type": "markdown",
      "source": [
        "#### Data wrangling"
      ],
      "metadata": {
        "id": "oiZ3-Zivog6W"
      }
    },
    {
      "cell_type": "code",
      "source": [
        "data.head()"
      ],
      "metadata": {
        "execution": {
          "iopub.status.busy": "2022-07-23T09:02:42.68466Z",
          "iopub.execute_input": "2022-07-23T09:02:42.686022Z",
          "iopub.status.idle": "2022-07-23T09:02:42.728963Z",
          "shell.execute_reply.started": "2022-07-23T09:02:42.68597Z",
          "shell.execute_reply": "2022-07-23T09:02:42.727333Z"
        },
        "trusted": true,
        "id": "6DeI3WG9og6X"
      },
      "execution_count": null,
      "outputs": []
    },
    {
      "cell_type": "code",
      "source": [
        "data.info()\n",
        "print(\"data shape is :\",data.shape)"
      ],
      "metadata": {
        "execution": {
          "iopub.status.busy": "2022-07-23T09:02:43.113993Z",
          "iopub.execute_input": "2022-07-23T09:02:43.114749Z",
          "iopub.status.idle": "2022-07-23T09:02:43.156069Z",
          "shell.execute_reply.started": "2022-07-23T09:02:43.114706Z",
          "shell.execute_reply": "2022-07-23T09:02:43.155171Z"
        },
        "trusted": true,
        "id": "qTpljf19og6Z"
      },
      "execution_count": null,
      "outputs": []
    },
    {
      "cell_type": "markdown",
      "source": [
        " As we can see  our data consist of 7043 rows and 21 columns which makes it quite small dataset. The variables are in an object type exept for SeniorCitizen  , tenure are both int64 and MonthlyCharges has a float64 type."
      ],
      "metadata": {
        "id": "zdzs0Vkpog6a"
      }
    },
    {
      "cell_type": "code",
      "source": [
        "# Check for missing data and duplicated customer_IDs\n",
        "data.isna().any().any(), data.customerID.duplicated().any()"
      ],
      "metadata": {
        "execution": {
          "iopub.status.busy": "2022-07-23T09:02:45.399335Z",
          "iopub.execute_input": "2022-07-23T09:02:45.399777Z",
          "iopub.status.idle": "2022-07-23T09:02:45.427745Z",
          "shell.execute_reply.started": "2022-07-23T09:02:45.399733Z",
          "shell.execute_reply": "2022-07-23T09:02:45.426243Z"
        },
        "trusted": true,
        "id": "4EnsmibFog6b"
      },
      "execution_count": null,
      "outputs": []
    },
    {
      "cell_type": "markdown",
      "source": [
        "There are no dublicated and no missing values in our data, which means we can start analyze it direcyly"
      ],
      "metadata": {
        "id": "3KJiZAXCog6c"
      }
    },
    {
      "cell_type": "markdown",
      "source": [
        "<h3 style=\"background-color: #f78239 ;padding: 15px ; margin: 7px;\" align=\"justify\"> Explotory data analysis.</h3>\n",
        "we will take a look at each variable and check it's distrubution and how it relates with the target.\n"
      ],
      "metadata": {
        "id": "SoOaku-0og6c"
      }
    },
    {
      "cell_type": "markdown",
      "source": [
        "**Basic summary statistics for numirical variables**"
      ],
      "metadata": {
        "id": "xqkFCAcwog6d"
      }
    },
    {
      "cell_type": "code",
      "source": [
        "data.describe().style.background_gradient()"
      ],
      "metadata": {
        "execution": {
          "iopub.status.busy": "2022-07-23T09:02:47.59726Z",
          "iopub.execute_input": "2022-07-23T09:02:47.597712Z",
          "iopub.status.idle": "2022-07-23T09:02:47.704502Z",
          "shell.execute_reply.started": "2022-07-23T09:02:47.597678Z",
          "shell.execute_reply": "2022-07-23T09:02:47.702965Z"
        },
        "trusted": true,
        "id": "jaLgHBGDog6e"
      },
      "execution_count": null,
      "outputs": []
    },
    {
      "cell_type": "markdown",
      "source": [
        "#### Churn by Gender"
      ],
      "metadata": {
        "id": "QPhtxVoSog6f"
      }
    },
    {
      "cell_type": "code",
      "source": [
        "plt.figure(figsize=(10,6))\n",
        "sns.histplot(data=data, x=\"gender\", hue=\"Churn\", multiple=\"dodge\", palette ='flare',shrink=.7)\n",
        "plt.title('Churn by Gender')"
      ],
      "metadata": {
        "_kg_hide-input": true,
        "execution": {
          "iopub.status.busy": "2022-07-23T09:02:48.084145Z",
          "iopub.execute_input": "2022-07-23T09:02:48.085247Z",
          "iopub.status.idle": "2022-07-23T09:02:48.364999Z",
          "shell.execute_reply.started": "2022-07-23T09:02:48.085195Z",
          "shell.execute_reply": "2022-07-23T09:02:48.363556Z"
        },
        "trusted": true,
        "id": "NAkyEwHJog6h"
      },
      "execution_count": null,
      "outputs": []
    },
    {
      "cell_type": "markdown",
      "source": [
        "The gender variable is ballanced in our dataset (there are exactly 3555 male and 3488 female ) , looking at the figure above we can see that churn is equally present with in female as in males."
      ],
      "metadata": {
        "execution": {
          "iopub.status.busy": "2022-07-01T16:59:09.080032Z",
          "iopub.execute_input": "2022-07-01T16:59:09.080392Z",
          "iopub.status.idle": "2022-07-01T16:59:09.088259Z",
          "shell.execute_reply.started": "2022-07-01T16:59:09.080364Z",
          "shell.execute_reply": "2022-07-01T16:59:09.086818Z"
        },
        "id": "uoSLdiLGog6j"
      }
    },
    {
      "cell_type": "markdown",
      "source": [
        "#### Churn by senior Citizen\n",
        "\n",
        "Senior Citizen a binary feature that indicates wether the customer is an an elderly person or not. looking at the figure below we can see that the dataset contains less senior citizens ( 1142 from the total 7043 custormers). we can also see that churn is present with in both categories."
      ],
      "metadata": {
        "id": "fssoCcyZog6l"
      }
    },
    {
      "cell_type": "code",
      "source": [
        "plt.figure(figsize=(9,5))\n",
        "sns.histplot(x= \"SeniorCitizen\", data=data,shrink=7 ,  palette ='BuGn_r',hue = \"SeniorCitizen\");\n",
        "plt.figure(figsize=(11,5))\n",
        "sns.histplot(data=data, x=\"SeniorCitizen\", hue=\"Churn\", multiple=\"dodge\", palette ='BuGn_r',shrink=7)\n",
        "plt.title('Churn by gender')"
      ],
      "metadata": {
        "_kg_hide-input": true,
        "execution": {
          "iopub.status.busy": "2022-07-23T09:02:49.587469Z",
          "iopub.execute_input": "2022-07-23T09:02:49.587914Z",
          "iopub.status.idle": "2022-07-23T09:02:50.285224Z",
          "shell.execute_reply.started": "2022-07-23T09:02:49.587881Z",
          "shell.execute_reply": "2022-07-23T09:02:50.283798Z"
        },
        "trusted": true,
        "id": "fUzadxxdog6m"
      },
      "execution_count": null,
      "outputs": []
    },
    {
      "cell_type": "markdown",
      "source": [
        "#### Partnership variable\n",
        "the partner feature is a binary feature that indicates whether the customer has a partner or not. the figures bellow show how this variable is present in our data and how it realates to churn."
      ],
      "metadata": {
        "id": "-iKaDEfoog6o"
      }
    },
    {
      "cell_type": "code",
      "source": [
        "plt.figure(figsize=(9,5))\n",
        "sns.histplot(x= \"Partner\", data=data,shrink=.7 ,  palette ='YlOrBr',hue = \"Partner\");\n",
        "plt.figure(figsize=(11,5))\n",
        "sns.histplot(data=data, x=\"Partner\", hue=\"Churn\", multiple=\"dodge\", palette ='YlOrBr',shrink=.7)\n",
        "plt.title('Churn by gender')"
      ],
      "metadata": {
        "_kg_hide-input": true,
        "execution": {
          "iopub.status.busy": "2022-07-23T09:02:50.287228Z",
          "iopub.execute_input": "2022-07-23T09:02:50.287622Z",
          "iopub.status.idle": "2022-07-23T09:02:50.783667Z",
          "shell.execute_reply.started": "2022-07-23T09:02:50.287589Z",
          "shell.execute_reply": "2022-07-23T09:02:50.782372Z"
        },
        "trusted": true,
        "id": "mIPE9wBEog6p"
      },
      "execution_count": null,
      "outputs": []
    },
    {
      "cell_type": "markdown",
      "source": [
        "#### Dependents varibale\n",
        "the Dependents feature is a binarry variable that tells wether the cutomer is a depandent or not. and we can see that most customers aren't dependent while churn is fairly present in both types."
      ],
      "metadata": {
        "id": "nZrfWIIlog6q"
      }
    },
    {
      "cell_type": "code",
      "source": [
        "plt.figure(figsize=(9,5))\n",
        "sns.histplot(data=data,x=\"Dependents\",hue='Churn', palette='rocket',shrink=.5)\n",
        "plt.title('Dependents feature')"
      ],
      "metadata": {
        "execution": {
          "iopub.status.busy": "2022-07-23T09:03:32.711123Z",
          "iopub.execute_input": "2022-07-23T09:03:32.712402Z",
          "iopub.status.idle": "2022-07-23T09:03:32.959532Z",
          "shell.execute_reply.started": "2022-07-23T09:03:32.712322Z",
          "shell.execute_reply": "2022-07-23T09:03:32.958332Z"
        },
        "trusted": true,
        "id": "AotymfzRog6r"
      },
      "execution_count": null,
      "outputs": []
    },
    {
      "cell_type": "markdown",
      "source": [
        "#### Tenure Feature\n",
        "looking at the figure below we can tell that the less tenure the customer has the more likely he is about to churn.\n"
      ],
      "metadata": {
        "id": "5F23YWqHog6r"
      }
    },
    {
      "cell_type": "code",
      "source": [
        "plt.figure(figsize=(12,8))\n",
        "sns.histplot(data=data,x=\"tenure\",hue='Churn', palette='BuPu')\n",
        "plt.title('Tenure feature')"
      ],
      "metadata": {
        "_kg_hide-input": true,
        "execution": {
          "iopub.status.busy": "2022-07-23T09:04:03.525974Z",
          "iopub.execute_input": "2022-07-23T09:04:03.526412Z",
          "iopub.status.idle": "2022-07-23T09:04:03.885139Z",
          "shell.execute_reply.started": "2022-07-23T09:04:03.526382Z",
          "shell.execute_reply": "2022-07-23T09:04:03.883702Z"
        },
        "trusted": true,
        "id": "uZrjHDHhog6s"
      },
      "execution_count": null,
      "outputs": []
    },
    {
      "cell_type": "markdown",
      "source": [
        "####  Telecom services\n",
        "Services that each customer has signed up for – phone, multiple lines, internet, online security, online backup, device protection, tech support, and streaming TV and movies.The figures below shows the distribution of each service and how it affects shurn ( we can't make conclusion here since we are just exploring the dataset)."
      ],
      "metadata": {
        "id": "prccyXEIog6t"
      }
    },
    {
      "cell_type": "code",
      "source": [
        "fig, ax = plt.subplots(2, 2,figsize=(15,12))\n",
        "sns.histplot(data=data,x=\"PhoneService\",hue='Churn', palette='hsv',ax=ax[0,0])\n",
        "sns.histplot(data=data,x=\"MultipleLines\",hue='Churn', palette='magma',ax=ax[0,1])\n",
        "sns.histplot(data=data,x=\"InternetService\",hue='Churn', palette='mako',ax=ax[1,0])\n",
        "sns.histplot(data=data,x='OnlineSecurity',hue='Churn', palette='prism',ax=ax[1,1])\n"
      ],
      "metadata": {
        "_kg_hide-input": true,
        "execution": {
          "iopub.status.busy": "2022-07-23T09:06:07.625892Z",
          "iopub.execute_input": "2022-07-23T09:06:07.626303Z",
          "iopub.status.idle": "2022-07-23T09:06:08.398476Z",
          "shell.execute_reply.started": "2022-07-23T09:06:07.626273Z",
          "shell.execute_reply": "2022-07-23T09:06:08.39681Z"
        },
        "trusted": true,
        "id": "G28ddV0iog6u"
      },
      "execution_count": null,
      "outputs": []
    },
    {
      "cell_type": "code",
      "source": [
        "fig, ax = plt.subplots(2,2,figsize=(15,12))\n",
        "sns.histplot(data=data,x=\"OnlineBackup\",hue='Churn', palette='hsv',ax=ax[0,0])\n",
        "sns.histplot(data=data,x=\"DeviceProtection\",hue='Churn', palette='magma',ax=ax[0,1])\n",
        "sns.histplot(data=data,x=\"TechSupport\",hue='Churn', palette='prism',ax=ax[1,0])\n",
        "sns.histplot(data=data,x='StreamingTV',hue='Churn', palette='mako',ax=ax[1,1])\n"
      ],
      "metadata": {
        "_kg_hide-input": true,
        "execution": {
          "iopub.status.busy": "2022-07-23T09:06:13.075567Z",
          "iopub.execute_input": "2022-07-23T09:06:13.07597Z",
          "iopub.status.idle": "2022-07-23T09:06:13.887645Z",
          "shell.execute_reply.started": "2022-07-23T09:06:13.075938Z",
          "shell.execute_reply": "2022-07-23T09:06:13.886034Z"
        },
        "trusted": true,
        "id": "o_uy7Pblog6u"
      },
      "execution_count": null,
      "outputs": []
    },
    {
      "cell_type": "markdown",
      "source": [
        "### Contract Feature\n",
        "the contract variable tells how long the individual have been a customer , there are three tpype of contract ; Month-to-month (3875 customers) , Two years (1695) and one year (1473) , we can easily see that those who has month-to-month contract are more likely to churn.\n"
      ],
      "metadata": {
        "id": "3woZdBPkog6w"
      }
    },
    {
      "cell_type": "code",
      "source": [
        "plt.figure(figsize=(9,5))\n",
        "sns.histplot(data=data,x=\"Contract\",hue='Churn', shrink =.7 , palette='copper')\n",
        "plt.title('Contract feature')"
      ],
      "metadata": {
        "_kg_hide-input": true,
        "execution": {
          "iopub.status.busy": "2022-07-23T09:09:37.679982Z",
          "iopub.execute_input": "2022-07-23T09:09:37.680506Z",
          "iopub.status.idle": "2022-07-23T09:09:37.951438Z",
          "shell.execute_reply.started": "2022-07-23T09:09:37.680452Z",
          "shell.execute_reply": "2022-07-23T09:09:37.950123Z"
        },
        "trusted": true,
        "id": "4AzSltWIog6x"
      },
      "execution_count": null,
      "outputs": []
    },
    {
      "cell_type": "markdown",
      "source": [
        "#### PaperlessBilling\n",
        "paperless billing is also a binary feature which tell whether the customer has activated the paperless billing method or not."
      ],
      "metadata": {
        "id": "qh0WqNRXog6y"
      }
    },
    {
      "cell_type": "code",
      "source": [
        "plt.figure(figsize=(9,5))\n",
        "sns.histplot(data=data,x=\"PaperlessBilling\",hue='Churn', palette='Set2',shrink=.5)\n",
        "plt.title('PaperlessBilling feature')"
      ],
      "metadata": {
        "_kg_hide-input": true,
        "execution": {
          "iopub.status.busy": "2022-07-23T09:13:30.677934Z",
          "iopub.execute_input": "2022-07-23T09:13:30.6784Z",
          "iopub.status.idle": "2022-07-23T09:13:30.925633Z",
          "shell.execute_reply.started": "2022-07-23T09:13:30.678366Z",
          "shell.execute_reply": "2022-07-23T09:13:30.924249Z"
        },
        "trusted": true,
        "id": "89UbkhBsog6y"
      },
      "execution_count": null,
      "outputs": []
    },
    {
      "cell_type": "markdown",
      "source": [
        "### PaymentMethod\n",
        "PaymentMethod feature tells what's the method that customer use to pay his bills , there are four methodes of payment ; Electronic check , mailed check , bank transfer and credit card."
      ],
      "metadata": {
        "id": "8L8_q1rVog6z"
      }
    },
    {
      "cell_type": "code",
      "source": [
        "plt.figure(figsize=(11,5))\n",
        "sns.histplot(data=data,x=\"PaymentMethod\",hue='Churn', palette='tab20c_r',shrink =.6)\n",
        "plt.title('PaymentMethod feature')"
      ],
      "metadata": {
        "execution": {
          "iopub.status.busy": "2022-07-23T09:13:12.065843Z",
          "iopub.execute_input": "2022-07-23T09:13:12.066291Z",
          "iopub.status.idle": "2022-07-23T09:13:12.344541Z",
          "shell.execute_reply.started": "2022-07-23T09:13:12.066259Z",
          "shell.execute_reply": "2022-07-23T09:13:12.343025Z"
        },
        "trusted": true,
        "id": "Eu8L5aALog6z"
      },
      "execution_count": null,
      "outputs": []
    },
    {
      "cell_type": "markdown",
      "source": [
        "### MonthlyCharges"
      ],
      "metadata": {
        "id": "I48uUDPZog6z"
      }
    },
    {
      "cell_type": "code",
      "source": [
        "plt.figure(figsize=(9,5))\n",
        "sns.histplot(data=data,x=\"MonthlyCharges\", palette='hsv_r',hue =\"Churn\")"
      ],
      "metadata": {
        "_kg_hide-input": true,
        "execution": {
          "iopub.status.busy": "2022-07-23T09:14:21.715534Z",
          "iopub.execute_input": "2022-07-23T09:14:21.715973Z",
          "iopub.status.idle": "2022-07-23T09:14:22.04371Z",
          "shell.execute_reply.started": "2022-07-23T09:14:21.715941Z",
          "shell.execute_reply": "2022-07-23T09:14:22.042542Z"
        },
        "trusted": true,
        "id": "jJIyEK-zog60"
      },
      "execution_count": null,
      "outputs": []
    },
    {
      "cell_type": "markdown",
      "source": [
        "#### Target Distribution"
      ],
      "metadata": {
        "id": "n_ifxh6Rog7D"
      }
    },
    {
      "cell_type": "code",
      "source": [
        "plt.figure(figsize=(9,5))\n",
        "sns.countplot(data=data,x=\"Churn\", palette='gist_heat',)\n",
        "plt.title('Target Distribution ')"
      ],
      "metadata": {
        "execution": {
          "iopub.status.busy": "2022-07-23T09:16:40.188142Z",
          "iopub.execute_input": "2022-07-23T09:16:40.188629Z",
          "iopub.status.idle": "2022-07-23T09:16:40.367511Z",
          "shell.execute_reply.started": "2022-07-23T09:16:40.188596Z",
          "shell.execute_reply": "2022-07-23T09:16:40.366642Z"
        },
        "trusted": true,
        "id": "QZ6Ei1I3og7E"
      },
      "execution_count": null,
      "outputs": []
    },
    {
      "cell_type": "markdown",
      "source": [
        "<h3 style=\"background-color: #f78239 ;padding: 15px ; margin: 7px;\" align=\"justify\"> Churn prediction.</h3>\n",
        "\n",
        "Now after we did some analysis on our data , we are going to creat a model it using Xgboost , based on features that enables us to predict weather the custumer is likely to churn in the next month."
      ],
      "metadata": {
        "id": "lIXqNHGvog7F"
      }
    },
    {
      "cell_type": "markdown",
      "source": [
        "### Data preparation"
      ],
      "metadata": {
        "id": "kUQXVUHJog7F"
      }
    },
    {
      "cell_type": "code",
      "source": [
        "X = data.drop(columns=['customerID',\"Churn\"]).copy() #drop ID and target variable\n",
        "y = data[\"Churn\"].copy()"
      ],
      "metadata": {
        "execution": {
          "iopub.status.busy": "2022-07-23T09:17:14.226296Z",
          "iopub.execute_input": "2022-07-23T09:17:14.226753Z",
          "iopub.status.idle": "2022-07-23T09:17:14.236698Z",
          "shell.execute_reply.started": "2022-07-23T09:17:14.226719Z",
          "shell.execute_reply": "2022-07-23T09:17:14.235712Z"
        },
        "trusted": true,
        "id": "COW1Tn7uog7F"
      },
      "execution_count": null,
      "outputs": []
    },
    {
      "cell_type": "code",
      "source": [
        "cat_col = [col for col in X.columns if X[col].dtype == 'object']\n",
        "num_col = [col for col in X.columns if X[col].dtype == 'int']"
      ],
      "metadata": {
        "execution": {
          "iopub.status.busy": "2022-07-23T09:17:14.721375Z",
          "iopub.execute_input": "2022-07-23T09:17:14.721954Z",
          "iopub.status.idle": "2022-07-23T09:17:14.729428Z",
          "shell.execute_reply.started": "2022-07-23T09:17:14.721907Z",
          "shell.execute_reply": "2022-07-23T09:17:14.72824Z"
        },
        "trusted": true,
        "id": "rCFCwxy_og7G"
      },
      "execution_count": null,
      "outputs": []
    },
    {
      "cell_type": "code",
      "source": [
        "## label encoder for categorical features\n",
        "label_encoder = LabelEncoder()\n",
        "for col in cat_col:\n",
        "        X[col] = label_encoder.fit_transform(X[col])\n",
        "\n",
        "y_encoded= label_encoder.fit_transform(y)"
      ],
      "metadata": {
        "execution": {
          "iopub.status.busy": "2022-07-23T09:17:44.340185Z",
          "iopub.execute_input": "2022-07-23T09:17:44.34069Z",
          "iopub.status.idle": "2022-07-23T09:17:44.361029Z",
          "shell.execute_reply.started": "2022-07-23T09:17:44.340654Z",
          "shell.execute_reply": "2022-07-23T09:17:44.3597Z"
        },
        "trusted": true,
        "id": "yduoIAdTog7G"
      },
      "execution_count": null,
      "outputs": []
    },
    {
      "cell_type": "code",
      "source": [
        "X_train, X_test, y_train,y_test = train_test_split(X, y_encoded, test_size=0.2, random_state=42)\n",
        "print(X_train.shape,X_test.shape, y_train.shape,y_test.shape )"
      ],
      "metadata": {
        "execution": {
          "iopub.status.busy": "2022-07-23T09:17:45.264353Z",
          "iopub.execute_input": "2022-07-23T09:17:45.264836Z",
          "iopub.status.idle": "2022-07-23T09:17:45.278468Z",
          "shell.execute_reply.started": "2022-07-23T09:17:45.2648Z",
          "shell.execute_reply": "2022-07-23T09:17:45.276967Z"
        },
        "trusted": true,
        "id": "0FEBtG_nog7H"
      },
      "execution_count": null,
      "outputs": []
    },
    {
      "cell_type": "markdown",
      "source": [
        "#### Training and prediction\n",
        "Now we have the train and test data all set we go on to devlop our model."
      ],
      "metadata": {
        "id": "dSrPH-0Kog7I"
      }
    },
    {
      "cell_type": "code",
      "source": [
        "%%time\n",
        "splits = 5 # number of folds\n",
        "predictions = [] # list of predictions\n",
        "scores = [] # auc_roc validation score\n",
        "feat_imp = pd.DataFrame() # get feat importance\n",
        "train_x = X_train.values ## convert Df to numpy array\n",
        "kf =  StratifiedKFold(n_splits=splits, shuffle=True, random_state=42) # creat folds\n",
        "###training extra trees classifier ###\n",
        "for fold, (idx_train, idx_valid) in enumerate(kf.split(train_x,y_train)):\n",
        "    X_tr, y_tr = train_x[idx_train], y_train[idx_train]\n",
        "    X_val, y_val = train_x[idx_valid], y_train[idx_valid]\n",
        "    model =  XGBClassifier(random_state = 42)\n",
        "    model.fit(X_tr,y_tr)\n",
        "    val_pred = model.predict_proba(X_val)[:, 1]\n",
        "    score = roc_auc_score(y_val, val_pred)\n",
        "    scores.append(score)\n",
        "    print(f\"Fold: {fold + 1} roc_auc Score is : {score}\")\n",
        "    fold_imp= pd.DataFrame()\n",
        "    fold_imp[\"Feature\"] = X_test.columns\n",
        "    fold_imp[\"importance\"] = model.feature_importances_\n",
        "    fold_imp[\"fold\"] = fold+ 1\n",
        "    feat_imp = pd.concat([feat_imp, fold_imp], axis=0)\n",
        "    print('*'*40)\n",
        "    test_preds = model.predict_proba(X_test)[:, 1]\n",
        "    predictions.append(test_preds)\n",
        "print(f\" mean Validation roc_aucis : {np.mean(scores)}\")"
      ],
      "metadata": {
        "_kg_hide-input": true,
        "execution": {
          "iopub.status.busy": "2022-07-23T09:17:50.436393Z",
          "iopub.execute_input": "2022-07-23T09:17:50.436799Z",
          "iopub.status.idle": "2022-07-23T09:17:55.770297Z",
          "shell.execute_reply.started": "2022-07-23T09:17:50.436768Z",
          "shell.execute_reply": "2022-07-23T09:17:55.769371Z"
        },
        "trusted": true,
        "id": "HD9rcaDdog7I"
      },
      "execution_count": null,
      "outputs": []
    },
    {
      "cell_type": "markdown",
      "source": [
        "### Feature importance\n",
        "Feature Importance is a list of our features and their score. It represent represent the importance of each variable. A higher score means that the specific feature will have a larger effect on the model."
      ],
      "metadata": {
        "id": "s4cByc7yog7J"
      }
    },
    {
      "cell_type": "code",
      "source": [
        "plot =feat_imp.groupby(\"Feature\").mean().reset_index()\n",
        "plt.figure(figsize=(18,10))\n",
        "sns.barplot(x=\"importance\", y=\"Feature\", data=plot.sort_values(by=\"importance\", ascending=False),palette = 'GnBu_r')\n",
        "plt.title('XGB Features importance ')\n",
        "plt.tight_layout()\n",
        "plt.show()"
      ],
      "metadata": {
        "execution": {
          "iopub.status.busy": "2022-07-23T09:17:58.911588Z",
          "iopub.execute_input": "2022-07-23T09:17:58.912041Z",
          "iopub.status.idle": "2022-07-23T09:17:59.353741Z",
          "shell.execute_reply.started": "2022-07-23T09:17:58.912008Z",
          "shell.execute_reply": "2022-07-23T09:17:59.352738Z"
        },
        "trusted": true,
        "id": "-M8-8g5bog7J"
      },
      "execution_count": null,
      "outputs": []
    },
    {
      "cell_type": "markdown",
      "source": [
        "#### Test Roc_auc score"
      ],
      "metadata": {
        "id": "yyBqB2r_og7K"
      }
    },
    {
      "cell_type": "code",
      "source": [
        "preds = np.array(predictions)\n",
        "preds = preds.mean(axis=0)\n",
        "test_score = roc_auc_score(y_test, preds)\n",
        "test_score"
      ],
      "metadata": {
        "execution": {
          "iopub.status.busy": "2022-07-23T09:18:09.143711Z",
          "iopub.execute_input": "2022-07-23T09:18:09.14433Z",
          "iopub.status.idle": "2022-07-23T09:18:09.154565Z",
          "shell.execute_reply.started": "2022-07-23T09:18:09.144295Z",
          "shell.execute_reply": "2022-07-23T09:18:09.153048Z"
        },
        "trusted": true,
        "id": "y6iFrCJaog7K"
      },
      "execution_count": null,
      "outputs": []
    },
    {
      "cell_type": "markdown",
      "source": [
        "#### Classification_report\n",
        "[classification report](https://scikit-learn.org/stable/modules/generated/sklearn.metrics.classification_report.html) from scikit let's us quickly build a text report showing the main classification metrics."
      ],
      "metadata": {
        "id": "c39X49dqog7L"
      }
    },
    {
      "cell_type": "code",
      "source": [
        "preds=np.around(np.around(preds, decimals=0)) ## round values to 0 and 1\n",
        "print(classification_report(y_test,preds))"
      ],
      "metadata": {
        "execution": {
          "iopub.status.busy": "2022-07-23T09:18:17.634542Z",
          "iopub.execute_input": "2022-07-23T09:18:17.634982Z",
          "iopub.status.idle": "2022-07-23T09:18:17.65293Z",
          "shell.execute_reply.started": "2022-07-23T09:18:17.63495Z",
          "shell.execute_reply": "2022-07-23T09:18:17.651524Z"
        },
        "trusted": true,
        "id": "sp4AEyKlog7L"
      },
      "execution_count": null,
      "outputs": []
    },
    {
      "cell_type": "markdown",
      "source": [
        "#### Confusion_matrix\n",
        "[A confusion matrix](https://scikit-learn.org/stable/modules/generated/sklearn.metrics.confusion_matrix.html) is a table that is used to define the performance of a classification algorithm."
      ],
      "metadata": {
        "id": "e8FhuTg6og7M"
      }
    },
    {
      "cell_type": "code",
      "source": [
        "cm_graph = confusion_matrix(y_test, preds)\n",
        "cm_display = ConfusionMatrixDisplay(cm_graph).plot()"
      ],
      "metadata": {
        "execution": {
          "iopub.status.busy": "2022-07-23T09:18:22.120235Z",
          "iopub.execute_input": "2022-07-23T09:18:22.121296Z",
          "iopub.status.idle": "2022-07-23T09:18:22.351302Z",
          "shell.execute_reply.started": "2022-07-23T09:18:22.121237Z",
          "shell.execute_reply": "2022-07-23T09:18:22.350127Z"
        },
        "trusted": true,
        "id": "pvcWY1OSog7M"
      },
      "execution_count": null,
      "outputs": []
    },
    {
      "cell_type": "markdown",
      "source": [
        "Using the deafault Xgboost paramaters we got validation score of 0.81 and a test score of 0.84 which is an excellent discrimination , although we can finde tune the model and improve the score , we can be confident about our model predicting on new data."
      ],
      "metadata": {
        "id": "BaLeCA5Dog7N"
      }
    },
    {
      "cell_type": "markdown",
      "source": [
        "### Summary  \n",
        "In this notebook we analyzed the telecom dataset , we first did some data exploration and then we conducted Univariate analysis.\n",
        "\n",
        "Our goal was to check for trends and insghits each variable can provid, after that we traind an Xgboost classifier using 5 folds which appeared to be a good model for our dataset.\n",
        "\n",
        "Based on the analysis and feature importance of our model we could say that There is a trend that customers who are on a month to month contract are more likely to churn, one way to reduce the churn rate is to advrtize for the other type of contracts or slowely  break the Month-to-Month contract."
      ],
      "metadata": {
        "id": "Kq2uQwrJog7N"
      }
    },
    {
      "cell_type": "code",
      "source": [],
      "metadata": {
        "id": "3CScDubqog7O"
      },
      "execution_count": null,
      "outputs": []
    }
  ]
}